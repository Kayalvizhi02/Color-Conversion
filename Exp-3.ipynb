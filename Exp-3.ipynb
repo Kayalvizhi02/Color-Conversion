{
 "cells": [
  {
   "cell_type": "code",
   "execution_count": 1,
   "id": "9c26a03d",
   "metadata": {},
   "outputs": [],
   "source": [
    "import cv2"
   ]
  },
  {
   "cell_type": "code",
   "execution_count": 2,
   "id": "3c1e4758",
   "metadata": {},
   "outputs": [],
   "source": [
    "house_color_image = cv2.imread(\"img.jpg\")\n",
    "cv2.imshow('212220230024',house_color_image)\n",
    "cv2.waitKey(0)\n",
    "cv2.destroyAllWindows()"
   ]
  },
  {
   "cell_type": "code",
   "execution_count": 3,
   "id": "8ad6a204",
   "metadata": {},
   "outputs": [],
   "source": [
    "#BGR2HSV & #RGB2HSV\n",
    "hsv_image = cv2.cvtColor(house_color_image, cv2.COLOR_BGR2HSV)\n",
    "cv2.imshow('BGR2HSV',hsv_image)\n",
    "hsv_image1 = cv2.cvtColor(house_color_image, cv2.COLOR_RGB2HSV)\n",
    "cv2.imshow('RGB2HSV',hsv_image1)\n",
    "cv2.waitKey(0)\n",
    "cv2.destroyAllWindows()"
   ]
  },
  {
   "cell_type": "code",
   "execution_count": 4,
   "id": "aafb7121",
   "metadata": {},
   "outputs": [],
   "source": [
    "#BGR2GRAY & #RGB2GRAY\n",
    "gray_image = cv2.cvtColor(house_color_image, cv2.COLOR_BGR2GRAY)\n",
    "cv2.imshow('BGR2GRAY',gray_image)\n",
    "gray_image1 = cv2.cvtColor(house_color_image, cv2.COLOR_RGB2GRAY)\n",
    "cv2.imshow('RGB2GRAY',gray_image1)\n",
    "cv2.waitKey(0)\n",
    "cv2.destroyAllWindows()"
   ]
  },
  {
   "cell_type": "code",
   "execution_count": 5,
   "id": "711ef292",
   "metadata": {},
   "outputs": [],
   "source": [
    "house_HSV_image = cv2.imread(\"img.jpg\")\n",
    "cv2.imshow('212220230024',house_HSV_image)\n",
    "cv2.waitKey(0)\n",
    "cv2.destroyAllWindows()"
   ]
  },
  {
   "cell_type": "code",
   "execution_count": 6,
   "id": "9c6c6f39",
   "metadata": {},
   "outputs": [],
   "source": [
    "#HSV2RGB & #HSV2BGR\n",
    "RGB_image = cv2.cvtColor(house_HSV_image, cv2.COLOR_HSV2RGB)\n",
    "cv2.imshow('HSV TO RGB',RGB_image)\n",
    "BGR_image = cv2.cvtColor(house_HSV_image, cv2.COLOR_HSV2BGR)\n",
    "cv2.imshow('HSV TO BGR',BGR_image)\n",
    "cv2.waitKey(0)\n",
    "cv2.destroyAllWindows()"
   ]
  },
  {
   "cell_type": "code",
   "execution_count": 7,
   "id": "bc3b0439",
   "metadata": {},
   "outputs": [],
   "source": [
    "#RGB2YCrCb & #BGR2YCrCb\n",
    "YCrCb_image = cv2.cvtColor(house_color_image, cv2.COLOR_RGB2YCrCb)\n",
    "cv2.imshow('RGB to YCrCb',YCrCb_image)\n",
    "YCrCb_image1 = cv2.cvtColor(house_color_image, cv2.COLOR_BGR2YCrCb)\n",
    "cv2.imshow('BGR to YCrCb',YCrCb_image1)\n",
    "cv2.waitKey(0)\n",
    "cv2.destroyAllWindows()"
   ]
  },
  {
   "cell_type": "code",
   "execution_count": 8,
   "id": "29b64f46",
   "metadata": {},
   "outputs": [],
   "source": [
    "#Spliting and Merging RGB Image\n",
    "blue = RGB_image[:,:,0]\n",
    "green = RGB_image[:,:,1]\n",
    "red = RGB_image[:,:,2]\n",
    "cv2.imshow(\"R plane\",red)\n",
    "cv2.imshow(\"G plane\",green)\n",
    "cv2.imshow(\"B plane\",blue)\n",
    "p=cv2.merge((blue,green,red))\n",
    "cv2.imshow(\"merged\",p)\n",
    "cv2.waitKey(0)\n",
    "cv2.destroyAllWindows()"
   ]
  },
  {
   "cell_type": "code",
   "execution_count": 9,
   "id": "380614eb",
   "metadata": {},
   "outputs": [],
   "source": [
    "#Spliting & Merging HSV Image\n",
    "h, s, v = cv2.split(hsv_image)\n",
    "cv2.imshow(\"h plane\",h)\n",
    "cv2.imshow(\"s plane\",s)\n",
    "cv2.imshow(\"v plane\",v)\n",
    "merged = cv2.merge((h,s,v))\n",
    "cv2.imshow(\"merge\",merged)\n",
    "cv2.waitKey(0)\n",
    "cv2.destroyAllWindows()"
   ]
  },
  {
   "cell_type": "code",
   "execution_count": null,
   "id": "db22b8c2",
   "metadata": {},
   "outputs": [],
   "source": []
  }
 ],
 "metadata": {
  "kernelspec": {
   "display_name": "Python 3",
   "language": "python",
   "name": "python3"
  },
  "language_info": {
   "codemirror_mode": {
    "name": "ipython",
    "version": 3
   },
   "file_extension": ".py",
   "mimetype": "text/x-python",
   "name": "python",
   "nbconvert_exporter": "python",
   "pygments_lexer": "ipython3",
   "version": "3.8.8"
  }
 },
 "nbformat": 4,
 "nbformat_minor": 5
}
